{
 "cells": [
  {
   "cell_type": "code",
   "execution_count": null,
   "metadata": {},
   "outputs": [],
   "source": [
    "def slicePyongyang(mask):\n",
    "    \n",
    "    # /Volumes/Sandisk/BlackMarble/FINAL_NATIONAL/With Mask/\n",
    "    if mask == True:\n",
    "        dprk_tifs = glob.glob(f'{BASE_PATH}/FINAL_NATIONAL/With Mask/**.tif')\n",
    "    else:\n",
    "        dprk_tifs = glob.glob(f'{BASE_PATH}/FINAL_NATIONAL/No Mask/**.tif')  \n",
    "    \n",
    "    for file in dprk_tifs:\n",
    "\n",
    "        output_name = file.split('/')[6]\n",
    "        \n",
    "        with fiona.open('/Users/ethanjewell/Desktop/Python Env/Scripting/Map Data/Shapefiles/NK 6 Cities/Pyongyang.shp') as shapefile:\n",
    "            shapes = [feature[\"geometry\"] for feature in shapefile]\n",
    "\n",
    "        with rio.open(file) as src:\n",
    "            out_image, out_transform = rio.mask.mask(src, shapes, crop=True)\n",
    "            out_meta = src.meta\n",
    "            out_meta.update({\"driver\": \"GTiff\",\n",
    "                 \"height\": out_image.shape[1],\n",
    "                 \"width\": out_image.shape[2],\n",
    "                 \"transform\": out_transform})\n",
    "\n",
    "        if mask == True:\n",
    "            with rio.open(f'{BASE_PATH}/FINAL_PYONGYANG/With Mask/' + str(output_name), \"w\", **out_meta) as dest:\n",
    "                dest.write(out_image)    \n",
    "        else:\n",
    "            with rio.open(f'{BASE_PATH}/FINAL_PYONGYANG/No Mask/' + str(output_name), \"w\", **out_meta) as dest:\n",
    "                dest.write(out_image)\n",
    "\n",
    "    print('Pyongyang tifs created.')"
   ]
  }
 ],
 "metadata": {
  "language_info": {
   "name": "python"
  },
  "orig_nbformat": 4
 },
 "nbformat": 4,
 "nbformat_minor": 2
}
